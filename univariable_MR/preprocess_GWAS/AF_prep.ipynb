{
 "cells": [
  {
   "cell_type": "markdown",
   "metadata": {},
   "source": [
    "read the GWAS file"
   ]
  },
  {
   "cell_type": "code",
   "execution_count": 1,
   "metadata": {},
   "outputs": [
    {
     "name": "stdout",
     "output_type": "stream",
     "text": [
      "   rs_dbsnp147              variant_id chromosome  base_pair_location  \\\n",
      "0  1:10583_G/A              rs58108140          1               10583   \n",
      "1  1:13302_C/T  rs75241669;rs180734498          1               13302   \n",
      "2  1:13327_G/C               rs2691329          1               13327   \n",
      "3  1:16071_G/A             rs541172944          1               16071   \n",
      "4  1:16280_T/C             rs866639523          1               16280   \n",
      "\n",
      "  other_allele effect_allele  effect_allele_frequency    beta  standard_error  \\\n",
      "0            A             G                      NaN -0.0640          0.0585   \n",
      "1            T             C                      NaN -0.1306          0.0681   \n",
      "2            C             G                      NaN -0.4488          0.1873   \n",
      "3            A             G                   1.0000 -0.1820          1.7000   \n",
      "4            T             C                   0.0002  1.2500          0.8640   \n",
      "\n",
      "   p_value  ci_lower  ci_upper  odds_ratio  \n",
      "0  0.27390       NaN       NaN         NaN  \n",
      "1  0.05514       NaN       NaN         NaN  \n",
      "2  0.01657       NaN       NaN         NaN  \n",
      "3  0.91470       NaN       NaN         NaN  \n",
      "4  0.14800       NaN       NaN         NaN  \n"
     ]
    }
   ],
   "source": [
    "import pandas as pd\n",
    "gwas_file = '/Users/sanjeedahs/Desktop/MR_PROJECT/outcome_data/AF/30061737-GCST006414-EFO_0000275-Build37.f.tsv'\n",
    "df = pd.read_csv(gwas_file, delimiter='\\t', low_memory=False)\n",
    "print(df.head())"
   ]
  },
  {
   "cell_type": "markdown",
   "metadata": {},
   "source": [
    "reorder and format columns"
   ]
  },
  {
   "cell_type": "code",
   "execution_count": 2,
   "metadata": {},
   "outputs": [],
   "source": [
    "# Select and rename the relevant columns\n",
    "df = df.rename(columns={\n",
    "    'variant_id': 'SNP',\n",
    "    'chromosome': 'chromosome',\n",
    "    'base_pair_location': 'bp_loc',\n",
    "    'beta': 'beta',\n",
    "    'standard_error': 'se',\n",
    "    'effect_allele': 'effect_allele',\n",
    "    'other_allele': 'other_allele',\n",
    "    'effect_allele_frequency': 'eaf',\n",
    "    'p_value': 'pval'\n",
    "})\n",
    "\n",
    "# Keep only the necessary columns\n",
    "filtered_snps = df[['SNP', 'chromosome', 'bp_loc', 'beta', 'se', 'effect_allele', 'other_allele', 'eaf', 'pval']]\n"
   ]
  },
  {
   "cell_type": "markdown",
   "metadata": {},
   "source": [
    "only keep SNPs by removing multibase alleles"
   ]
  },
  {
   "cell_type": "code",
   "execution_count": 4,
   "metadata": {},
   "outputs": [
    {
     "name": "stdout",
     "output_type": "stream",
     "text": [
      "                      SNP chromosome  bp_loc    beta      se effect_allele  \\\n",
      "0              rs58108140          1   10583 -0.0640  0.0585             G   \n",
      "1  rs75241669;rs180734498          1   13302 -0.1306  0.0681             C   \n",
      "2               rs2691329          1   13327 -0.4488  0.1873             G   \n",
      "3             rs541172944          1   16071 -0.1820  1.7000             G   \n",
      "4             rs866639523          1   16280  1.2500  0.8640             C   \n",
      "\n",
      "  other_allele     eaf     pval  \n",
      "0            A     NaN  0.27390  \n",
      "1            T     NaN  0.05514  \n",
      "2            C     NaN  0.01657  \n",
      "3            A  1.0000  0.91470  \n",
      "4            T  0.0002  0.14800  \n"
     ]
    }
   ],
   "source": [
    "# Convert allele columns to strings to avoid issues with len()\n",
    "filtered_snps['effect_allele'] = filtered_snps['effect_allele'].astype(str)\n",
    "filtered_snps['other_allele'] = filtered_snps['other_allele'].astype(str)\n",
    "\n",
    "# Remove rows with multi-base alleles, making sure to handle NaN values\n",
    "filtered_snps = filtered_snps[filtered_snps['effect_allele'].map(lambda x: isinstance(x, str) and len(x) == 1)]\n",
    "filtered_snps = filtered_snps[filtered_snps['other_allele'].map(lambda x: isinstance(x, str) and len(x) == 1)]\n",
    "\n",
    "# Display the first few rows of the filtered DataFrame\n",
    "print(filtered_snps.head())"
   ]
  },
  {
   "cell_type": "markdown",
   "metadata": {},
   "source": [
    "remove NA values"
   ]
  },
  {
   "cell_type": "code",
   "execution_count": 6,
   "metadata": {},
   "outputs": [
    {
     "name": "stdout",
     "output_type": "stream",
     "text": [
      "            SNP chromosome  bp_loc    beta      se effect_allele other_allele  \\\n",
      "3   rs541172944          1   16071 -0.1820  1.7000             G            A   \n",
      "4   rs866639523          1   16280  1.2500  0.8640             C            T   \n",
      "6   rs199900651          1   48186  0.4754  0.4954             G            T   \n",
      "7    rs10399793          1   49298 -0.0079  0.0218             C            T   \n",
      "10  rs140052487          1   54353 -0.7320  0.7100             C            A   \n",
      "\n",
      "       eaf    pval  \n",
      "3   1.0000  0.9147  \n",
      "4   0.0002  0.1480  \n",
      "6   0.0015  0.3373  \n",
      "7   0.6207  0.7161  \n",
      "10  0.9996  0.3025  \n"
     ]
    }
   ],
   "source": [
    "#remove na values \n",
    "filtered_snps = filtered_snps.dropna(subset=['SNP', 'chromosome', 'bp_loc', 'beta', 'se', 'effect_allele', 'other_allele', 'eaf', 'pval'])\n",
    "# Display the first few rows of the filtered DataFrame\n",
    "print(filtered_snps.head())"
   ]
  },
  {
   "cell_type": "markdown",
   "metadata": {},
   "source": [
    "save the dataframe "
   ]
  },
  {
   "cell_type": "code",
   "execution_count": 7,
   "metadata": {},
   "outputs": [
    {
     "name": "stdout",
     "output_type": "stream",
     "text": [
      "            SNP chromosome  bp_loc    beta      se effect_allele other_allele  \\\n",
      "3   rs541172944          1   16071 -0.1820  1.7000             G            A   \n",
      "4   rs866639523          1   16280  1.2500  0.8640             C            T   \n",
      "6   rs199900651          1   48186  0.4754  0.4954             G            T   \n",
      "7    rs10399793          1   49298 -0.0079  0.0218             C            T   \n",
      "10  rs140052487          1   54353 -0.7320  0.7100             C            A   \n",
      "\n",
      "       eaf    pval  \n",
      "3   1.0000  0.9147  \n",
      "4   0.0002  0.1480  \n",
      "6   0.0015  0.3373  \n",
      "7   0.6207  0.7161  \n",
      "10  0.9996  0.3025  \n"
     ]
    }
   ],
   "source": [
    "# Save the filtered data to a new file \n",
    "filtered_gwas_file = '/Users/sanjeedahs/Desktop/MR_PROJECT/outcome_data/AF/filtered_AF_GWAS.tsv'\n",
    "filtered_snps.to_csv(filtered_gwas_file, sep='\\t', index=False)\n",
    "\n",
    "# Display the first few rows of the filtered DataFrame\n",
    "print(filtered_snps.head())"
   ]
  },
  {
   "cell_type": "markdown",
   "metadata": {},
   "source": [
    "perform liftover "
   ]
  },
  {
   "cell_type": "code",
   "execution_count": 1,
   "metadata": {},
   "outputs": [
    {
     "name": "stdout",
     "output_type": "stream",
     "text": [
      "Requirement already satisfied: pyliftover in /opt/homebrew/lib/python3.11/site-packages (0.4.1)\n",
      "Note: you may need to restart the kernel to use updated packages.\n",
      "           SNP  chromosome  bp_loc    beta      se effect_allele other_allele  \\\n",
      "0  rs541172944           1   16071 -0.1820  1.7000             G            A   \n",
      "1  rs866639523           1   16280  1.2500  0.8640             C            T   \n",
      "2  rs199900651           1   48186  0.4754  0.4954             G            T   \n",
      "3   rs10399793           1   49298 -0.0079  0.0218             C            T   \n",
      "4  rs140052487           1   54353 -0.7320  0.7100             C            A   \n",
      "\n",
      "      eaf    pval  bp_loc_hg38  \n",
      "0  1.0000  0.9147      16071.0  \n",
      "1  0.0002  0.1480      16280.0  \n",
      "2  0.0015  0.3373      48186.0  \n",
      "3  0.6207  0.7161      49298.0  \n",
      "4  0.9996  0.3025      54353.0  \n",
      "Lifted over GWAS data saved to /Users/sanjeedahs/Desktop/MR_PROJECT/outcome_data/AF/filtered_AF_GWAS_hg38.tsv\n"
     ]
    }
   ],
   "source": [
    "# Install pyliftover\n",
    "%pip install pyliftover\n",
    "\n",
    "import pandas as pd\n",
    "from pyliftover import LiftOver\n",
    "\n",
    "# Initialize the LiftOver object for GRCh37 to hg38 conversion\n",
    "lo = LiftOver('hg19', 'hg38')\n",
    "\n",
    "# Load your GWAS data\n",
    "input_file = '/Users/sanjeedahs/Desktop/MR_PROJECT/outcome_data/AF/filtered_AF_GWAS.tsv'\n",
    "output_file = '/Users/sanjeedahs/Desktop/MR_PROJECT/outcome_data/AF/filtered_AF_GWAS_hg38.tsv'\n",
    "\n",
    "gwas_data = pd.read_csv(input_file, sep='\\t')\n",
    "\n",
    "# Function to perform the liftover and handle missing conversions\n",
    "def lift_over_coordinates(chromosome, bp_loc):\n",
    "    lifted = lo.convert_coordinate('chr' + str(chromosome), bp_loc)\n",
    "    if lifted:\n",
    "        return lifted[0][1]\n",
    "    else:\n",
    "        return None\n",
    "\n",
    "# Apply the liftover to the bp_loc column\n",
    "gwas_data['bp_loc_hg38'] = gwas_data.apply(lambda row: lift_over_coordinates(row['chromosome'], row['bp_loc']), axis=1)\n",
    "\n",
    "# Display the first few rows of the updated DataFrame\n",
    "print(gwas_data.head())\n",
    "\n",
    "# Save the updated GWAS data to a new file\n",
    "gwas_data.to_csv(output_file, sep='\\t', index=False)\n",
    "\n",
    "print(f\"Lifted over GWAS data saved to {output_file}\")\n"
   ]
  }
 ],
 "metadata": {
  "kernelspec": {
   "display_name": "Python 3",
   "language": "python",
   "name": "python3"
  },
  "language_info": {
   "codemirror_mode": {
    "name": "ipython",
    "version": 3
   },
   "file_extension": ".py",
   "mimetype": "text/x-python",
   "name": "python",
   "nbconvert_exporter": "python",
   "pygments_lexer": "ipython3",
   "version": "3.11.9"
  }
 },
 "nbformat": 4,
 "nbformat_minor": 2
}
